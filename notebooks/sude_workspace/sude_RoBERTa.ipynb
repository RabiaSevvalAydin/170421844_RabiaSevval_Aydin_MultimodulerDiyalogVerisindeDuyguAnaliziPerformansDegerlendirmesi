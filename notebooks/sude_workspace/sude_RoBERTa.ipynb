{
 "cells": [
  {
   "cell_type": "markdown",
   "metadata": {},
   "source": [
    "Öncelikle pandas kütüphanesi kullanılarak MELD veri seti yüklenir. Metinler tokenize edilerek işleme hazır hale getirilir."
   ]
  },
  {
   "cell_type": "code",
   "execution_count": 3,
   "metadata": {},
   "outputs": [],
   "source": [
    "import pandas as pd\n",
    "\n",
    "# MELD veri setini yükle\n",
    "meld_dev = pd.read_csv(\"../../data/raw/dev_sent_emo.csv\")\n",
    "\n",
    "# İlgili sütunları al\n",
    "meld_texts = meld_dev[\"Utterance\"].tolist()\n",
    "meld_labels = meld_dev[\"Emotion\"].tolist()\n",
    "meld_speaker = meld_dev[\"Speaker\"].tolist()\n",
    "meld_conversation = meld_dev[\"Dialogue_ID\"].tolist()"
   ]
  },
  {
   "cell_type": "code",
   "execution_count": 6,
   "metadata": {},
   "outputs": [
    {
     "name": "stdout",
     "output_type": "stream",
     "text": [
      "torch.Size([1109, 128])\n",
      "{'input_ids': tensor([[    0,  7516,   127,  ...,     1,     1,     1],\n",
      "        [    0,  2264,   116,  ...,     1,     1,     1],\n",
      "        [    0, 11094,   328,  ...,     1,     1,     1],\n",
      "        ...,\n",
      "        [    0,   100,  4056,  ...,     1,     1,     1],\n",
      "        [    0,   100,  1266,  ...,     1,     1,     1],\n",
      "        [    0,   100,   216,  ...,     1,     1,     1]]), 'attention_mask': tensor([[1, 1, 1,  ..., 0, 0, 0],\n",
      "        [1, 1, 1,  ..., 0, 0, 0],\n",
      "        [1, 1, 1,  ..., 0, 0, 0],\n",
      "        ...,\n",
      "        [1, 1, 1,  ..., 0, 0, 0],\n",
      "        [1, 1, 1,  ..., 0, 0, 0],\n",
      "        [1, 1, 1,  ..., 0, 0, 0]])}\n"
     ]
    }
   ],
   "source": [
    "from transformers import RobertaTokenizer\n",
    "\n",
    "# Tokenizer'ı yükle\n",
    "tokenizer = RobertaTokenizer.from_pretrained(\"roberta-large\")\n",
    "\n",
    "# Bütün metinleri tokenize et\n",
    "tokens = tokenizer(\n",
    "    meld_texts, \n",
    "    padding=\"max_length\",  # Maksimum uzunluğa göre pad ekler\n",
    "    truncation=True,       # Uzun metinleri keser\n",
    "    max_length=128,        # Maksimum uzunluk\n",
    "    return_tensors=\"pt\"    # PyTorch tensörü olarak döndürür\n",
    ")\n",
    "\n",
    "# Çıktıyı kontrol et\n",
    "print(tokens[\"input_ids\"].shape)  # (num_samples, 128)\n",
    "print(tokens)\n"
   ]
  },
  {
   "cell_type": "code",
   "execution_count": 2,
   "metadata": {},
   "outputs": [
    {
     "name": "stderr",
     "output_type": "stream",
     "text": [
      "/Users/sudetungac/Desktop/proje/env/lib/python3.13/site-packages/tqdm/auto.py:21: TqdmWarning: IProgress not found. Please update jupyter and ipywidgets. See https://ipywidgets.readthedocs.io/en/stable/user_install.html\n",
      "  from .autonotebook import tqdm as notebook_tqdm\n"
     ]
    },
    {
     "ename": "NameError",
     "evalue": "name 'model' is not defined",
     "output_type": "error",
     "traceback": [
      "\u001b[31m---------------------------------------------------------------------------\u001b[39m",
      "\u001b[31mNameError\u001b[39m                                 Traceback (most recent call last)",
      "\u001b[36mCell\u001b[39m\u001b[36m \u001b[39m\u001b[32mIn[2]\u001b[39m\u001b[32m, line 19\u001b[39m\n\u001b[32m     17\u001b[39m \u001b[38;5;66;03m# Model ile embedding çıkartma\u001b[39;00m\n\u001b[32m     18\u001b[39m \u001b[38;5;28;01mwith\u001b[39;00m torch.no_grad():\n\u001b[32m---> \u001b[39m\u001b[32m19\u001b[39m     outputs = \u001b[43mmodel\u001b[49m(**tokens)\n\u001b[32m     21\u001b[39m \u001b[38;5;66;03m# Son gizli katman çıktısı (CLS token embedding'i kullan)\u001b[39;00m\n\u001b[32m     22\u001b[39m roberta_features = outputs.last_hidden_state[:, \u001b[32m0\u001b[39m, :]  \u001b[38;5;66;03m# (batch_size, hidden_dim)\u001b[39;00m\n",
      "\u001b[31mNameError\u001b[39m: name 'model' is not defined"
     ]
    }
   ],
   "source": [
    "# DUR ÇALIŞTIRMA !!!!\n",
    "from transformers import RobertaTokenizer, RobertaModel\n",
    "import torch\n",
    "\n",
    "# RoBERTa Tokenizer ve Modeli\n",
    "tokenizer = RobertaTokenizer.from_pretrained(\"roberta-large\")\n",
    "# model = RobertaModel.from_pretrained(\"roberta-base\")\n",
    "\n",
    "# Tokenize etme\n",
    "tokens = tokenizer(\n",
    "    meld_texts,\n",
    "    padding=True,\n",
    "    truncation=True,\n",
    "    return_tensors=\"pt\",\n",
    "    max_length=128)\n",
    "\n",
    "# Model ile embedding çıkartma\n",
    "with torch.no_grad():\n",
    "    outputs = model(**tokens)\n",
    "\n",
    "# Son gizli katman çıktısı (CLS token embedding'i kullan)\n",
    "roberta_features = outputs.last_hidden_state[:, 0, :]  # (batch_size, hidden_dim)\n",
    "\n",
    "# Özellik boyutu\n",
    "print(roberta_features.shape)  # (num_samples, 768)\n"
   ]
  }
 ],
 "metadata": {
  "kernelspec": {
   "display_name": "Python 3",
   "language": "python",
   "name": "python3"
  },
  "language_info": {
   "codemirror_mode": {
    "name": "ipython",
    "version": 3
   },
   "file_extension": ".py",
   "mimetype": "text/x-python",
   "name": "python",
   "nbconvert_exporter": "python",
   "pygments_lexer": "ipython3",
   "version": "3.13.2"
  }
 },
 "nbformat": 4,
 "nbformat_minor": 2
}
