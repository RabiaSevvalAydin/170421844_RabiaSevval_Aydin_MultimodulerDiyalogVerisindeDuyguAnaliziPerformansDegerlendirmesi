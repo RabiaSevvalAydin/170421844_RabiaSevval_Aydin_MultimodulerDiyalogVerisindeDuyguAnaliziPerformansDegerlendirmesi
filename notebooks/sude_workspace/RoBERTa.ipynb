{
 "cells": [
  {
   "cell_type": "markdown",
   "metadata": {},
   "source": [
    "# RoBERTa ile Veri Setinden Öznitelik Çıkarımı\n",
    "\n",
    "Öncelikle MELD veri setini yükleyip tokenize ederek işleme hazır hale getirdim."
   ]
  },
  {
   "cell_type": "code",
   "execution_count": 1,
   "metadata": {},
   "outputs": [],
   "source": [
    "import pandas as pd\n",
    "\n",
    "# MELD veri setini yükle\n",
    "meld_dev = pd.read_csv(\"../../data/raw/dev_sent_emo.csv\")\n",
    "\n",
    "# İlgili sütunları al\n",
    "meld_texts = meld_dev[\"Utterance\"].tolist()\n",
    "meld_labels = meld_dev[\"Emotion\"].tolist()\n",
    "meld_speaker = meld_dev[\"Speaker\"].tolist()\n",
    "meld_conversation = meld_dev[\"Dialogue_ID\"].tolist()"
   ]
  },
  {
   "cell_type": "markdown",
   "metadata": {},
   "source": [
    "RoBERTa tokenizer ile metinleri işledim."
   ]
  },
  {
   "cell_type": "code",
   "execution_count": 2,
   "metadata": {},
   "outputs": [
    {
     "name": "stderr",
     "output_type": "stream",
     "text": [
      "/Users/sudetungac/miniconda3/envs/bitirme-env/lib/python3.8/site-packages/tqdm/auto.py:21: TqdmWarning: IProgress not found. Please update jupyter and ipywidgets. See https://ipywidgets.readthedocs.io/en/stable/user_install.html\n",
      "  from .autonotebook import tqdm as notebook_tqdm\n"
     ]
    },
    {
     "name": "stdout",
     "output_type": "stream",
     "text": [
      "torch.Size([1109, 128])\n",
      "{'input_ids': tensor([[    0,  7516,   127,  ...,     1,     1,     1],\n",
      "        [    0,  2264,   116,  ...,     1,     1,     1],\n",
      "        [    0, 11094,   328,  ...,     1,     1,     1],\n",
      "        ...,\n",
      "        [    0,   100,  4056,  ...,     1,     1,     1],\n",
      "        [    0,   100,  1266,  ...,     1,     1,     1],\n",
      "        [    0,   100,   216,  ...,     1,     1,     1]]), 'attention_mask': tensor([[1, 1, 1,  ..., 0, 0, 0],\n",
      "        [1, 1, 1,  ..., 0, 0, 0],\n",
      "        [1, 1, 1,  ..., 0, 0, 0],\n",
      "        ...,\n",
      "        [1, 1, 1,  ..., 0, 0, 0],\n",
      "        [1, 1, 1,  ..., 0, 0, 0],\n",
      "        [1, 1, 1,  ..., 0, 0, 0]])}\n"
     ]
    }
   ],
   "source": [
    "from transformers import RobertaTokenizer\n",
    "\n",
    "# Tokenizer'ı yükle\n",
    "tokenizer = RobertaTokenizer.from_pretrained(\"roberta-large\")\n",
    "\n",
    "# Bütün metinleri tokenize et\n",
    "tokens = tokenizer(\n",
    "    meld_texts, \n",
    "    padding=\"max_length\",  # Maksimum uzunluğa göre pad ekler\n",
    "    truncation=True,       # Uzun metinleri keser\n",
    "    max_length=128,        # Maksimum uzunluk\n",
    "    return_tensors=\"pt\"    # PyTorch tensörü olarak döndürür\n",
    ")\n",
    "\n",
    "print(tokens[\"input_ids\"].shape)  # (num_samples, 128)\n",
    "print(tokens)\n"
   ]
  },
  {
   "cell_type": "markdown",
   "metadata": {},
   "source": [
    "Hugging Face kütüphanesini kullanarak RoBERTa gömme özniteliklerini çıkardım."
   ]
  },
  {
   "cell_type": "code",
   "execution_count": 7,
   "metadata": {},
   "outputs": [
    {
     "name": "stderr",
     "output_type": "stream",
     "text": [
      "Some weights of RobertaModel were not initialized from the model checkpoint at roberta-large and are newly initialized: ['roberta.pooler.dense.bias', 'roberta.pooler.dense.weight']\n",
      "You should probably TRAIN this model on a down-stream task to be able to use it for predictions and inference.\n"
     ]
    },
    {
     "name": "stdout",
     "output_type": "stream",
     "text": [
      "torch.Size([1109, 1024])\n"
     ]
    }
   ],
   "source": [
    "from transformers import RobertaModel\n",
    "import torch\n",
    "\n",
    "# RoBERTa modelini yükle\n",
    "model = RobertaModel.from_pretrained(\"roberta-large\")\n",
    "\n",
    "# Model ile embedding çıkartma\n",
    "with torch.no_grad():\n",
    "    outputs = model(**tokens)\n",
    "\n",
    "# Son gizli katman çıktısı (CLS token embedding'i kullan)\n",
    "roberta_features = outputs.last_hidden_state[:, 0, :]  # (batch_size, hidden_dim)\n",
    "\n",
    "# Özellik boyutu\n",
    "print(roberta_features.shape)  # (num_samples, 768)"
   ]
  },
  {
   "cell_type": "markdown",
   "metadata": {},
   "source": [
    "DialogueRNN modeli, konuşmaları sıralı olarak işlediği için veriyi konuşmalara göre gruplayıp işlemek gerekiyor.\n",
    "Her konuşmanın diyalog sırasını koruyarak bir liste formatına çevirdim."
   ]
  },
  {
   "cell_type": "code",
   "execution_count": 8,
   "metadata": {},
   "outputs": [],
   "source": [
    "from collections import defaultdict\n",
    "\n",
    "# Diyalogları gruplama\n",
    "dialogues = defaultdict(list)\n",
    "for text, speaker, conv_id, feature, label in zip(meld_texts, meld_speaker, meld_conversation, roberta_features, meld_labels):\n",
    "    dialogues[conv_id].append((feature, speaker, label))\n",
    "\n",
    "# Sıralı diyalog listesi oluştur\n",
    "sorted_dialogues = [dialogues[key] for key in sorted(dialogues.keys())]\n"
   ]
  }
 ],
 "metadata": {
  "kernelspec": {
   "display_name": "bitirme-env",
   "language": "python",
   "name": "python3"
  },
  "language_info": {
   "codemirror_mode": {
    "name": "ipython",
    "version": 3
   },
   "file_extension": ".py",
   "mimetype": "text/x-python",
   "name": "python",
   "nbconvert_exporter": "python",
   "pygments_lexer": "ipython3",
   "version": "3.8.20"
  }
 },
 "nbformat": 4,
 "nbformat_minor": 2
}
